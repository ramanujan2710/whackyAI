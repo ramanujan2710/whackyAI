{
  "nbformat": 4,
  "nbformat_minor": 0,
  "metadata": {
    "colab": {
      "name": "Untitled4.ipynb",
      "provenance": []
    },
    "kernelspec": {
      "name": "python3",
      "display_name": "Python 3"
    },
    "language_info": {
      "name": "python"
    }
  },
  "cells": [
    {
      "cell_type": "code",
      "source": [
        "import pandas as pd\n",
        "import numpy as np"
      ],
      "metadata": {
        "id": "lUK0Yb1IDW_v"
      },
      "execution_count": null,
      "outputs": []
    },
    {
      "cell_type": "code",
      "source": [
        "from typing_extensions import Concatenate"
      ],
      "metadata": {
        "id": "8I0rvbEEFgvN"
      },
      "execution_count": null,
      "outputs": []
    },
    {
      "cell_type": "code",
      "source": [
        ""
      ],
      "metadata": {
        "id": "CPa1LXp9V07_"
      },
      "execution_count": null,
      "outputs": []
    },
    {
      "cell_type": "code",
      "execution_count": null,
      "metadata": {
        "id": "bk6ibSEYHxts"
      },
      "outputs": [],
      "source": [
        "import timeit\n",
        "import numpy as np\n",
        "import tensorflow as tf\n",
        "import tensorflow_datasets as tfds\n",
        "from datetime import datetime\n",
        "\n",
        "import matplotlib.pyplot as plt\n",
        "\n",
        "from sklearn.metrics import accuracy_score, precision_score, recall_score"
      ]
    },
    {
      "cell_type": "code",
      "source": [
        "print(\"Num GPUs Available: \", len(tf.config.list_physical_devices('GPU')))"
      ],
      "metadata": {
        "colab": {
          "base_uri": "https://localhost:8080/"
        },
        "id": "nuUVnXftxd-x",
        "outputId": "84224128-1f8d-456d-c395-385b907b692a"
      },
      "execution_count": null,
      "outputs": [
        {
          "output_type": "stream",
          "name": "stdout",
          "text": [
            "Num GPUs Available:  1\n"
          ]
        }
      ]
    },
    {
      "cell_type": "code",
      "source": [
        "colors = plt.rcParams['axes.prop_cycle'].by_key()['color']"
      ],
      "metadata": {
        "id": "DRa8JXOiIOGY"
      },
      "execution_count": null,
      "outputs": []
    },
    {
      "cell_type": "code",
      "source": [
        "tf.config.run_functions_eagerly(False)"
      ],
      "metadata": {
        "id": "iaEU1P-xP3ZH"
      },
      "execution_count": null,
      "outputs": []
    },
    {
      "cell_type": "code",
      "source": [
        "dir(tf.keras.datasets)"
      ],
      "metadata": {
        "colab": {
          "base_uri": "https://localhost:8080/"
        },
        "id": "VMlReNt7fgm3",
        "outputId": "975a34dd-b9b9-46c3-8bc4-e6d92b2b17a0"
      },
      "execution_count": null,
      "outputs": [
        {
          "output_type": "execute_result",
          "data": {
            "text/plain": [
              "['__builtins__',\n",
              " '__cached__',\n",
              " '__doc__',\n",
              " '__file__',\n",
              " '__loader__',\n",
              " '__name__',\n",
              " '__package__',\n",
              " '__path__',\n",
              " '__spec__',\n",
              " '_sys',\n",
              " 'boston_housing',\n",
              " 'cifar10',\n",
              " 'cifar100',\n",
              " 'fashion_mnist',\n",
              " 'imdb',\n",
              " 'mnist',\n",
              " 'reuters']"
            ]
          },
          "metadata": {},
          "execution_count": 5
        }
      ]
    },
    {
      "cell_type": "code",
      "source": [
        "(x_train_c, y_train_c), (x_test_c, y_test_c) = tf.keras.datasets.cifar10.load_data()\n",
        "\n",
        "x_train_c = tf.image.resize(x_train_c[0::,::,::,0].T, [28, 28]).numpy().T\n",
        "x_test_c = tf.image.resize(x_test_c[0::,::,::,0].T, [28, 28]).numpy().T\n",
        "\n",
        "x_train_c = x_train_c.reshape( (*x_train_c.shape, 1) )\n",
        "x_test_c = x_test_c.reshape( (*x_test_c.shape, 1) )\n",
        "\n",
        "x_train_c = x_train_c.astype('float32') / 255\n",
        "x_test_c = x_test_c.astype('float32') / 255\n",
        "\n",
        "x_train_c.shape, x_test_c.shape"
      ],
      "metadata": {
        "colab": {
          "base_uri": "https://localhost:8080/"
        },
        "id": "nQKb6qTvfrV9",
        "outputId": "341f1768-d3d2-4983-f0ab-93688868aac7"
      },
      "execution_count": null,
      "outputs": [
        {
          "output_type": "stream",
          "name": "stdout",
          "text": [
            "Downloading data from https://www.cs.toronto.edu/~kriz/cifar-10-python.tar.gz\n",
            "170500096/170498071 [==============================] - 3s 0us/step\n",
            "170508288/170498071 [==============================] - 3s 0us/step\n"
          ]
        },
        {
          "output_type": "execute_result",
          "data": {
            "text/plain": [
              "((50000, 28, 28, 1), (10000, 28, 28, 1))"
            ]
          },
          "metadata": {},
          "execution_count": 6
        }
      ]
    },
    {
      "cell_type": "code",
      "source": [
        "(x_train_n, y_train_n), (x_test_n, y_test_n) = tf.keras.datasets.mnist.load_data()\n",
        "\n",
        "x_train_n = x_train_n.astype('float32') / 255\n",
        "x_test_n = x_test_n.astype('float32') / 255"
      ],
      "metadata": {
        "id": "TcuxY1fGr8yS",
        "colab": {
          "base_uri": "https://localhost:8080/"
        },
        "outputId": "0985d4fc-d3ae-4544-e191-f676e145388e"
      },
      "execution_count": null,
      "outputs": [
        {
          "output_type": "stream",
          "name": "stdout",
          "text": [
            "Downloading data from https://storage.googleapis.com/tensorflow/tf-keras-datasets/mnist.npz\n",
            "11493376/11490434 [==============================] - 0s 0us/step\n",
            "11501568/11490434 [==============================] - 0s 0us/step\n"
          ]
        }
      ]
    },
    {
      "cell_type": "code",
      "source": [
        "(x_train_f, y_train_f), (x_test_f, y_test_f) = tf.keras.datasets.fashion_mnist.load_data()\n",
        "\n",
        "x_train_f = x_train_f.astype('float32') / 255\n",
        "x_test_f = x_test_f.astype('float32') / 255"
      ],
      "metadata": {
        "id": "WbkjTjTJ_KJ6",
        "colab": {
          "base_uri": "https://localhost:8080/"
        },
        "outputId": "54e089fe-50cc-43f8-cb3a-e0b1574a49a9"
      },
      "execution_count": null,
      "outputs": [
        {
          "output_type": "stream",
          "name": "stdout",
          "text": [
            "Downloading data from https://storage.googleapis.com/tensorflow/tf-keras-datasets/train-labels-idx1-ubyte.gz\n",
            "32768/29515 [=================================] - 0s 0us/step\n",
            "40960/29515 [=========================================] - 0s 0us/step\n",
            "Downloading data from https://storage.googleapis.com/tensorflow/tf-keras-datasets/train-images-idx3-ubyte.gz\n",
            "26427392/26421880 [==============================] - 1s 0us/step\n",
            "26435584/26421880 [==============================] - 1s 0us/step\n",
            "Downloading data from https://storage.googleapis.com/tensorflow/tf-keras-datasets/t10k-labels-idx1-ubyte.gz\n",
            "16384/5148 [===============================================================================================] - 0s 0us/step\n",
            "Downloading data from https://storage.googleapis.com/tensorflow/tf-keras-datasets/t10k-images-idx3-ubyte.gz\n",
            "4423680/4422102 [==============================] - 0s 0us/step\n",
            "4431872/4422102 [==============================] - 0s 0us/step\n"
          ]
        }
      ]
    },
    {
      "cell_type": "code",
      "source": [
        "# Show one of the images from the training dataset\n",
        "plt.imshow(x_train_f[17])"
      ],
      "metadata": {
        "colab": {
          "base_uri": "https://localhost:8080/",
          "height": 302
        },
        "id": "dixLmGuNux1n",
        "outputId": "5a0f0c56-d3e0-4e25-c6f8-aaf2d1b9e7a4"
      },
      "execution_count": null,
      "outputs": [
        {
          "output_type": "execute_result",
          "data": {
            "text/plain": [
              "<matplotlib.image.AxesImage at 0x7f85700ffd50>"
            ]
          },
          "metadata": {},
          "execution_count": 9
        },
        {
          "output_type": "display_data",
          "data": {
            "text/plain": [
              "<Figure size 432x288 with 1 Axes>"
            ],
            "image/png": "[encoded data removed]"
          },
          "metadata": {
            "needs_background": "light"
          }
        }
      ]
    },
    {
      "cell_type": "code",
      "source": [
        "x_train_n = x_train_n.reshape(len(x_train_n), 28, 28, 1)\n",
        "x_test_n = x_test_n.reshape(len(x_test_n), 28, 28, 1)"
      ],
      "metadata": {
        "id": "6BTb6RnOwWZW"
      },
      "execution_count": null,
      "outputs": []
    },
    {
      "cell_type": "code",
      "source": [
        "x_train_f = x_train_f.reshape(len(x_train_f), 28, 28, 1)\n",
        "x_test_f = x_test_f.reshape(len(x_test_f), 28, 28, 1)"
      ],
      "metadata": {
        "id": "NGVQCzk5_W9z"
      },
      "execution_count": null,
      "outputs": []
    },
    {
      "cell_type": "code",
      "source": [
        "class SelfConnectedLayer(tf.Module):\n",
        "    def __init__(self, units, get_w=False, **kwargs):\n",
        "        super().__init__(**kwargs)\n",
        "\n",
        "        # self_connections_metrics = (np.random.random( (units, units) ) > 0.5).astype(dtype=int).astype(dtype=tf.float32)\n",
        "        self.shift = np.random.randint(int(units*0.3), int(units*0.8))\n",
        "        self.s = tf.Variable(np.random.random((units)), name='sc', trainable=True, dtype=tf.float32)\n",
        "\n",
        "        self.w = tf.Variable(np.random.random((units)), name='w', trainable=True, dtype=tf.float32)\n",
        "        self.b = tf.Variable(np.random.random((units)), name='b', trainable=True, dtype=tf.float32)\n",
        "\n",
        "        self.get_w = get_w\n",
        "    \n",
        "    def __call__(self, x, state = 1.0, get_weights = False):\n",
        "        # weights x some_amount_of (shifted weights)\n",
        "        w = self.w + ( self.s * tf.roll(self.w, shift=self.shift, axis=0) )\n",
        "        w = w * state\n",
        "        if self.get_w or get_weights:\n",
        "            return (x * w) + self.b, self.w\n",
        "        else:\n",
        "            return (x * w) + self.b\n",
        "\n",
        "class CustomSelection(tf.Module):\n",
        "    def __init__(self, units, split=[.1, .9], **kwargs):\n",
        "        super().__init__(**kwargs)\n",
        "        selection = np.random.choice([0., 1.], size=units, p=split)\n",
        "        self.s = tf.Variable(\n",
        "            selection, \n",
        "            name='s', \n",
        "            trainable=False,\n",
        "            dtype=tf.float32\n",
        "        )\n",
        "    \n",
        "    def __call__(self, x):\n",
        "        return x * self.s\n",
        "\n",
        "class WeightNeuronsLayer(tf.Module): \n",
        "    def __init__(self, units, **kwargs):\n",
        "      super().__init__(**kwargs)\n",
        "\n",
        "      self.w = tf.Variable(np.random.random((units)), name='weightscale', trainable=True, dtype=tf.float32)\n",
        "      self.weights = tf.Variable(np.ones((units)), name='weight', trainable=True, dtype=tf.float32)\n",
        "\n",
        "    def __call__(self, x, prev_weights): \n",
        "        return self.weights * x * prev_weights, self.weights # * tf.keras.activations.tanh(self.w)\n",
        "\n",
        "\n"
      ],
      "metadata": {
        "id": "pHuVjbKlQxjM"
      },
      "execution_count": null,
      "outputs": []
    },
    {
      "cell_type": "code",
      "source": [
        "class SelfLoop(tf.keras.Model):\n",
        "    def __init__(self, latent_dim):\n",
        "        super(SelfLoop, self).__init__()\n",
        "\n",
        "        self.selfconn       =   SelfConnectedLayer(latent_dim)\n",
        "        self.WeightNeurons  =   WeightNeuronsLayer(latent_dim)\n",
        "\n",
        "        self.new_w          =   tf.Variable(np.ones((latent_dim)), name='new_weight', trainable=True, dtype=tf.float32)\n",
        "\n",
        "        self.training       =   True\n",
        "\n",
        "    def call(self, x):\n",
        "        if self.training:\n",
        "            SC2, w          = self.selfconn(x, state=self.new_w, get_weights=True)\n",
        "            W, self.new_w   = self.WeightNeurons(SC2, w)\n",
        "        else:\n",
        "            SC2, w          = self.selfconn(x, state=self.new_w, get_weights=True)\n",
        "            W, _            = self.WeightNeurons(SC2, w)\n",
        "        \n",
        "        return W\n"
      ],
      "metadata": {
        "id": "NytAzkQjAuql"
      },
      "execution_count": null,
      "outputs": []
    },
    {
      "cell_type": "code",
      "source": [
        ""
      ],
      "metadata": {
        "id": "DWJ_LzjoJV_I"
      },
      "execution_count": null,
      "outputs": []
    },
    {
      "cell_type": "code",
      "source": [
        "latent_dim = 64 \n",
        "\n",
        "class Autoencoder(tf.keras.Model):\n",
        "  def __init__(self, latent_dim):\n",
        "    super(Autoencoder, self).__init__()\n",
        "    self.latent_dim = latent_dim   \n",
        "    self.mycustom = SelfLoop(latent_dim=784)\n",
        "    \n",
        "    self.encoder = tf.keras.Sequential([\n",
        "      tf.keras.layers.Flatten(),\n",
        "      self.mycustom,\n",
        "      self.mycustom,      \n",
        "      tf.keras.layers.ReLU(),\n",
        "      tf.keras.layers.Dense(latent_dim, activation='relu'),\n",
        "    ])\n",
        "    self.decoder = tf.keras.Sequential([\n",
        "      tf.keras.layers.Dense(784, activation='sigmoid'),\n",
        "      tf.keras.layers.Reshape((28, 28))\n",
        "    ])\n",
        "\n",
        "  def call(self, x):\n",
        "    encoded = self.encoder(x)\n",
        "    decoded = self.decoder(encoded)\n",
        "    return decoded\n",
        "\n",
        "autoencoder = Autoencoder(latent_dim)\n",
        "autoencoder.compile(optimizer='adam', loss=tf.keras.losses.MeanSquaredError(), metrics=[tf.keras.metrics.MeanAbsoluteError() ])"
      ],
      "metadata": {
        "id": "gn4Is9UP_0JH"
      },
      "execution_count": null,
      "outputs": []
    },
    {
      "cell_type": "code",
      "execution_count": null,
      "metadata": {
        "id": "lmFCrlH_AfFj"
      },
      "outputs": [],
      "source": [
        "#inputs\n",
        "x=[x1,x2,x3,x4,x5,x6]"
      ]
    },
    {
      "cell_type": "code",
      "source": [
        "n=0\n",
        "def lo(p):\n",
        "  if n==0:\n",
        "    input=p.flatten()\n",
        "    e=self.encoder(input)\n",
        "    n+=1\n",
        "    return lo(e)\n",
        "  elif n<=len(x):\n",
        "    input=x[n].flatten()\n",
        "    t=np.concatenate([p,input)\n",
        "    e=self.encode(t)\n",
        "    n+=1\n",
        "    return lo(e)\n",
        "  else:\n",
        "    return p"
      ],
      "metadata": {
        "id": "T-r9hjDKBufJ"
      },
      "execution_count": null,
      "outputs": []
    },
    {
      "cell_type": "code",
      "source": [
        "print(\"==== PRE TRAINING ====\")\n",
        "\n",
        "normal_loss = autoencoder.evaluate(x_test_n, x_test_n)\n",
        "autoencoder.mycustom.training = False\n",
        "inference_loss = autoencoder.evaluate(x_test_n, x_test_n)\n",
        "autoencoder.mycustom.training = True\n",
        "\n",
        "print(\"Numeric Mnist\")\n",
        "print('Loss : ', normal_loss, \"Inference Loss : \", inference_loss)\n",
        "\n",
        "normal_loss = autoencoder.evaluate(x_test_f, x_test_f)\n",
        "autoencoder.mycustom.training = False\n",
        "inference_loss = autoencoder.evaluate(x_test_f, x_test_f)\n",
        "autoencoder.mycustom.training = True\n",
        "\n",
        "print(\"Fashion Mnist\")\n",
        "print('Loss : ', normal_loss, \"Inference Loss : \", inference_loss)\n",
        "\n",
        "normal_loss = autoencoder.evaluate(x_test_c, x_test_c)\n",
        "autoencoder.mycustom.training = False\n",
        "inference_loss = autoencoder.evaluate(x_test_c, x_test_c)\n",
        "autoencoder.mycustom.training = True\n",
        "\n",
        "print(\"Cifar\")\n",
        "print('Loss : ', normal_loss, \"Inference Loss : \", inference_loss)"
      ],
      "metadata": {
        "colab": {
          "base_uri": "https://localhost:8080/"
        },
        "id": "2mOmDqaWWd47",
        "outputId": "14e65b5b-4038-46ae-aad9-b1d492a1da2e"
      },
      "execution_count": null,
      "outputs": [
        {
          "output_type": "stream",
          "name": "stdout",
          "text": [
            "==== PRE TRAINING ====\n",
            "313/313 [==============================] - 7s 6ms/step - loss: 0.2330 - mean_absolute_error: 0.4733\n",
            "313/313 [==============================] - 2s 6ms/step - loss: 0.2330 - mean_absolute_error: 0.4733\n",
            "Numeric Mnist\n",
            "Loss :  [0.2329941838979721, 0.4733108878135681] Inference Loss :  [0.2329941838979721, 0.4733108878135681]\n",
            "313/313 [==============================] - 2s 5ms/step - loss: 0.1709 - mean_absolute_error: 0.3813\n",
            "313/313 [==============================] - 2s 6ms/step - loss: 0.1709 - mean_absolute_error: 0.3813\n",
            "Fashion Mnist\n",
            "Loss :  [0.17088966071605682, 0.3813144862651825] Inference Loss :  [0.17088966071605682, 0.3813144862651825]\n",
            "313/313 [==============================] - 2s 7ms/step - loss: 0.0602 - mean_absolute_error: 0.2025\n",
            "313/313 [==============================] - 2s 6ms/step - loss: 0.0602 - mean_absolute_error: 0.2025\n",
            "Cifar\n",
            "Loss :  [0.06022194027900696, 0.2024560421705246] Inference Loss :  [0.06022194027900696, 0.2024560421705246]\n"
          ]
        }
      ]
    },
    {
      "cell_type": "code",
      "source": [
        "history_n = autoencoder.fit(x_train_n, x_train_n,\n",
        "                epochs=10,\n",
        "                shuffle=True,\n",
        "                validation_data=(x_test_n, x_test_n))"
      ],
      "metadata": {
        "colab": {
          "base_uri": "https://localhost:8080/"
        },
        "id": "H0MjnV_SAa1R",
        "outputId": "09481927-7ad1-409b-cb4b-525cfa75fb3f"
      },
      "execution_count": null,
      "outputs": [
        {
          "output_type": "stream",
          "name": "stdout",
          "text": [
            "Epoch 1/10\n",
            "WARNING:tensorflow:Gradients do not exist for variables ['weightscale:0'] when minimizing the loss. If you're using `model.compile()`, did you forget to provide a `loss`argument?\n",
            "WARNING:tensorflow:Gradients do not exist for variables ['weightscale:0'] when minimizing the loss. If you're using `model.compile()`, did you forget to provide a `loss`argument?\n",
            "1875/1875 [==============================] - 9s 5ms/step - loss: 0.0266 - mean_absolute_error: 0.0708 - val_loss: 0.0109 - val_mean_absolute_error: 0.0363\n",
            "Epoch 2/10\n",
            "1875/1875 [==============================] - 8s 4ms/step - loss: 0.0100 - mean_absolute_error: 0.0343 - val_loss: 0.0090 - val_mean_absolute_error: 0.0321\n",
            "Epoch 3/10\n",
            "1875/1875 [==============================] - 9s 5ms/step - loss: 0.0091 - mean_absolute_error: 0.0322 - val_loss: 0.0086 - val_mean_absolute_error: 0.0310\n",
            "Epoch 4/10\n",
            "1875/1875 [==============================] - 8s 4ms/step - loss: 0.0088 - mean_absolute_error: 0.0315 - val_loss: 0.0083 - val_mean_absolute_error: 0.0305\n",
            "Epoch 5/10\n",
            "1875/1875 [==============================] - 8s 4ms/step - loss: 0.0086 - mean_absolute_error: 0.0311 - val_loss: 0.0083 - val_mean_absolute_error: 0.0302\n",
            "Epoch 6/10\n",
            "1875/1875 [==============================] - 8s 4ms/step - loss: 0.0085 - mean_absolute_error: 0.0309 - val_loss: 0.0081 - val_mean_absolute_error: 0.0303\n",
            "Epoch 7/10\n",
            "1875/1875 [==============================] - 8s 4ms/step - loss: 0.0084 - mean_absolute_error: 0.0308 - val_loss: 0.0081 - val_mean_absolute_error: 0.0299\n",
            "Epoch 8/10\n",
            "1875/1875 [==============================] - 9s 5ms/step - loss: 0.0084 - mean_absolute_error: 0.0307 - val_loss: 0.0081 - val_mean_absolute_error: 0.0300\n",
            "Epoch 9/10\n",
            "1875/1875 [==============================] - 8s 4ms/step - loss: 0.0083 - mean_absolute_error: 0.0306 - val_loss: 0.0080 - val_mean_absolute_error: 0.0296\n",
            "Epoch 10/10\n",
            "1875/1875 [==============================] - 8s 4ms/step - loss: 0.0083 - mean_absolute_error: 0.0305 - val_loss: 0.0080 - val_mean_absolute_error: 0.0298\n"
          ]
        }
      ]
    },
    {
      "cell_type": "code",
      "source": [
        "normal_loss = autoencoder.evaluate(x_test_n, x_test_n)\n",
        "autoencoder.mycustom.training = False\n",
        "inference_loss = autoencoder.evaluate(x_test_n, x_test_n)\n",
        "autoencoder.mycustom.training = True\n",
        "\n",
        "print('Loss : ', normal_loss, \"Inference Loss : \", inference_loss)"
      ],
      "metadata": {
        "colab": {
          "base_uri": "https://localhost:8080/"
        },
        "id": "WKxUZFhWDrhO",
        "outputId": "d7f6fbde-0408-4793-8cb9-e93312380c67"
      },
      "execution_count": null,
      "outputs": [
        {
          "output_type": "stream",
          "name": "stdout",
          "text": [
            "313/313 [==============================] - 1s 3ms/step - loss: 0.0080 - mean_absolute_error: 0.0298\n",
            "313/313 [==============================] - 1s 3ms/step - loss: 0.0080 - mean_absolute_error: 0.0298\n",
            "Loss :  [0.00801289826631546, 0.02984931692481041] Inference Loss :  [0.00801289826631546, 0.02984931692481041]\n"
          ]
        }
      ]
    },
    {
      "cell_type": "code",
      "source": [
        "history_f = autoencoder.fit(x_train_f, x_train_f,\n",
        "                epochs=10,\n",
        "                shuffle=True,\n",
        "                validation_data=(x_test_f, x_test_f))"
      ],
      "metadata": {
        "colab": {
          "base_uri": "https://localhost:8080/"
        },
        "id": "DrozUGBWGnZb",
        "outputId": "645a0905-a92b-4e34-f325-1e66aa64151e"
      },
      "execution_count": null,
      "outputs": [
        {
          "output_type": "stream",
          "name": "stdout",
          "text": [
            "Epoch 1/10\n",
            "1875/1875 [==============================] - 8s 4ms/step - loss: 0.0189 - mean_absolute_error: 0.0808 - val_loss: 0.0147 - val_mean_absolute_error: 0.0724\n",
            "Epoch 2/10\n",
            "1875/1875 [==============================] - 7s 4ms/step - loss: 0.0138 - mean_absolute_error: 0.0695 - val_loss: 0.0133 - val_mean_absolute_error: 0.0680\n",
            "Epoch 3/10\n",
            "1875/1875 [==============================] - 8s 4ms/step - loss: 0.0128 - mean_absolute_error: 0.0665 - val_loss: 0.0127 - val_mean_absolute_error: 0.0661\n",
            "Epoch 4/10\n",
            "1875/1875 [==============================] - 8s 4ms/step - loss: 0.0123 - mean_absolute_error: 0.0649 - val_loss: 0.0122 - val_mean_absolute_error: 0.0646\n",
            "Epoch 5/10\n",
            "1875/1875 [==============================] - 8s 4ms/step - loss: 0.0121 - mean_absolute_error: 0.0640 - val_loss: 0.0121 - val_mean_absolute_error: 0.0644\n",
            "Epoch 6/10\n",
            "1875/1875 [==============================] - 8s 4ms/step - loss: 0.0119 - mean_absolute_error: 0.0633 - val_loss: 0.0120 - val_mean_absolute_error: 0.0637\n",
            "Epoch 7/10\n",
            "1875/1875 [==============================] - 8s 5ms/step - loss: 0.0118 - mean_absolute_error: 0.0629 - val_loss: 0.0118 - val_mean_absolute_error: 0.0629\n",
            "Epoch 8/10\n",
            "1875/1875 [==============================] - 8s 4ms/step - loss: 0.0117 - mean_absolute_error: 0.0626 - val_loss: 0.0118 - val_mean_absolute_error: 0.0627\n",
            "Epoch 9/10\n",
            "1875/1875 [==============================] - 8s 4ms/step - loss: 0.0116 - mean_absolute_error: 0.0623 - val_loss: 0.0117 - val_mean_absolute_error: 0.0624\n",
            "Epoch 10/10\n",
            "1875/1875 [==============================] - 8s 4ms/step - loss: 0.0115 - mean_absolute_error: 0.0621 - val_loss: 0.0117 - val_mean_absolute_error: 0.0628\n"
          ]
        }
      ]
    },
    {
      "cell_type": "code",
      "source": [
        "normal_loss = autoencoder.evaluate(x_test_n, x_test_n)\n",
        "autoencoder.mycustom.training = False\n",
        "inference_loss = autoencoder.evaluate(x_test_n, x_test_n)\n",
        "autoencoder.mycustom.training = True\n",
        "\n",
        "print('Loss : ', normal_loss, \"Inference Loss : \", inference_loss)\n",
        "\n",
        "normal_loss = autoencoder.evaluate(x_test_f, x_test_f)\n",
        "autoencoder.mycustom.training = False\n",
        "inference_loss = autoencoder.evaluate(x_test_f, x_test_f)\n",
        "autoencoder.mycustom.training = True\n",
        "\n",
        "print('Loss : ', normal_loss, \"Inference Loss : \", inference_loss)"
      ],
      "metadata": {
        "id": "WzFOFRhxx-Xz",
        "colab": {
          "base_uri": "https://localhost:8080/"
        },
        "outputId": "25c23cff-c18f-4e9e-f9cb-4df7a362a172"
      },
      "execution_count": null,
      "outputs": [
        {
          "output_type": "stream",
          "name": "stdout",
          "text": [
            "313/313 [==============================] - 1s 3ms/step - loss: 0.0327 - mean_absolute_error: 0.1017\n",
            "313/313 [==============================] - 1s 3ms/step - loss: 0.0327 - mean_absolute_error: 0.1017\n",
            "Loss :  [0.03271893784403801, 0.10167627036571503] Inference Loss :  [0.03271893784403801, 0.10167627036571503]\n",
            "313/313 [==============================] - 1s 3ms/step - loss: 0.0117 - mean_absolute_error: 0.0628\n",
            "313/313 [==============================] - 1s 3ms/step - loss: 0.0117 - mean_absolute_error: 0.0628\n",
            "Loss :  [0.011675883084535599, 0.06275242567062378] Inference Loss :  [0.011675883084535599, 0.06275242567062378]\n"
          ]
        }
      ]
    },
    {
      "cell_type": "code",
      "source": [
        "history_c = autoencoder.fit(x_train_c, x_train_c,\n",
        "                epochs=10,\n",
        "                shuffle=True,\n",
        "                validation_data=(x_test_c, x_test_c))"
      ],
      "metadata": {
        "colab": {
          "base_uri": "https://localhost:8080/"
        },
        "id": "nm2Oke2-ItRS",
        "outputId": "51079729-45d2-4a95-ade4-1fa9c0098042"
      },
      "execution_count": null,
      "outputs": [
        {
          "output_type": "stream",
          "name": "stdout",
          "text": [
            "Epoch 1/10\n",
            "WARNING:tensorflow:Gradients do not exist for variables ['weightscale:0'] when minimizing the loss. If you're using `model.compile()`, did you forget to provide a `loss`argument?\n",
            "1563/1563 [==============================] - 10s 6ms/step - loss: 0.0115 - mean_absolute_error: 0.0793 - val_loss: 0.0097 - val_mean_absolute_error: 0.0735\n",
            "Epoch 2/10\n",
            "1563/1563 [==============================] - 8s 5ms/step - loss: 0.0090 - mean_absolute_error: 0.0702 - val_loss: 0.0086 - val_mean_absolute_error: 0.0688\n",
            "Epoch 3/10\n",
            "1563/1563 [==============================] - 9s 6ms/step - loss: 0.0084 - mean_absolute_error: 0.0678 - val_loss: 0.0083 - val_mean_absolute_error: 0.0672\n",
            "Epoch 4/10\n",
            "1563/1563 [==============================] - 10s 6ms/step - loss: 0.0081 - mean_absolute_error: 0.0666 - val_loss: 0.0080 - val_mean_absolute_error: 0.0661\n",
            "Epoch 5/10\n",
            "1563/1563 [==============================] - 9s 6ms/step - loss: 0.0079 - mean_absolute_error: 0.0658 - val_loss: 0.0079 - val_mean_absolute_error: 0.0654\n",
            "Epoch 6/10\n",
            "1563/1563 [==============================] - 10s 6ms/step - loss: 0.0078 - mean_absolute_error: 0.0654 - val_loss: 0.0078 - val_mean_absolute_error: 0.0652\n",
            "Epoch 7/10\n",
            "1563/1563 [==============================] - 10s 6ms/step - loss: 0.0078 - mean_absolute_error: 0.0651 - val_loss: 0.0078 - val_mean_absolute_error: 0.0649\n",
            "Epoch 8/10\n",
            "1563/1563 [==============================] - 9s 6ms/step - loss: 0.0077 - mean_absolute_error: 0.0648 - val_loss: 0.0077 - val_mean_absolute_error: 0.0648\n",
            "Epoch 9/10\n",
            "1563/1563 [==============================] - 9s 6ms/step - loss: 0.0077 - mean_absolute_error: 0.0647 - val_loss: 0.0077 - val_mean_absolute_error: 0.0648\n",
            "Epoch 10/10\n",
            "1563/1563 [==============================] - 10s 6ms/step - loss: 0.0077 - mean_absolute_error: 0.0645 - val_loss: 0.0077 - val_mean_absolute_error: 0.0645\n"
          ]
        }
      ]
    },
    {
      "cell_type": "code",
      "source": [
        "print(\"==== POST TRAINING ====\")\n",
        "\n",
        "normal_loss = autoencoder.evaluate(x_test_n, x_test_n)\n",
        "autoencoder.mycustom.training = False\n",
        "inference_loss = autoencoder.evaluate(x_test_n, x_test_n)\n",
        "autoencoder.mycustom.training = True\n",
        "\n",
        "print(\"Numeric Mnist\")\n",
        "print('Loss : ', normal_loss, \"Inference Loss : \", inference_loss)\n",
        "\n",
        "normal_loss = autoencoder.evaluate(x_test_f, x_test_f)\n",
        "autoencoder.mycustom.training = False\n",
        "inference_loss = autoencoder.evaluate(x_test_f, x_test_f)\n",
        "autoencoder.mycustom.training = True\n",
        "\n",
        "print(\"Fashion Mnist\")\n",
        "print('Loss : ', normal_loss, \"Inference Loss : \", inference_loss)\n",
        "\n",
        "normal_loss = autoencoder.evaluate(x_test_c, x_test_c)\n",
        "autoencoder.mycustom.training = False\n",
        "inference_loss = autoencoder.evaluate(x_test_c, x_test_c)\n",
        "autoencoder.mycustom.training = True\n",
        "\n",
        "print(\"Cifar\")\n",
        "print('Loss : ', normal_loss, \"Inference Loss : \", inference_loss)"
      ],
      "metadata": {
        "colab": {
          "base_uri": "https://localhost:8080/"
        },
        "id": "AiQqybuoJ-cX",
        "outputId": "e046d646-e06d-4ef0-b742-e9945ec362d8"
      },
      "execution_count": null,
      "outputs": [
        {
          "output_type": "stream",
          "name": "stdout",
          "text": [
            "==== POST TRAINING ====\n",
            "313/313 [==============================] - 1s 4ms/step - loss: 0.0336 - mean_absolute_error: 0.1353\n",
            "313/313 [==============================] - 1s 3ms/step - loss: 0.0336 - mean_absolute_error: 0.1353\n",
            "Numeric Mnist\n",
            "Loss :  [0.033641915768384933, 0.13532067835330963] Inference Loss :  [0.033641915768384933, 0.13532067835330963]\n",
            "313/313 [==============================] - 1s 3ms/step - loss: 0.0238 - mean_absolute_error: 0.1151\n",
            "313/313 [==============================] - 1s 3ms/step - loss: 0.0238 - mean_absolute_error: 0.1151\n",
            "Fashion Mnist\n",
            "Loss :  [0.02375389076769352, 0.11506101489067078] Inference Loss :  [0.02375389076769352, 0.11506101489067078]\n",
            "313/313 [==============================] - 1s 3ms/step - loss: 0.0077 - mean_absolute_error: 0.0645\n",
            "313/313 [==============================] - 1s 3ms/step - loss: 0.0077 - mean_absolute_error: 0.0645\n",
            "Cifar\n",
            "Loss :  [0.007664375938475132, 0.06452963501214981] Inference Loss :  [0.007664375938475132, 0.06452963501214981]\n"
          ]
        }
      ]
    },
    {
      "cell_type": "markdown",
      "source": [
        "Output With Weight Layer : \n",
        "\n",
        "```\n",
        "==== POST TRAINING ====\n",
        "313/313 [==============================] - 1s 3ms/step - loss: 0.0665 - mean_absolute_error: 0.1981\n",
        "313/313 [==============================] - 1s 3ms/step - loss: 0.0665 - mean_absolute_error: 0.1981\n",
        "Numeric Mnist\n",
        "Loss :  [0.066504567861557, 0.19811631739139557] Inference Loss :  [0.066504567861557, 0.19811631739139557]\n",
        "313/313 [==============================] - 1s 3ms/step - loss: 0.0456 - mean_absolute_error: 0.1694\n",
        "313/313 [==============================] - 1s 3ms/step - loss: 0.0456 - mean_absolute_error: 0.1694\n",
        "Fashion Mnist\n",
        "Loss :  [0.04557012394070625, 0.16939376294612885] Inference Loss :  [0.04557012394070625, 0.16939376294612885]\n",
        "313/313 [==============================] - 1s 3ms/step - loss: 0.0185 - mean_absolute_error: 0.1016\n",
        "313/313 [==============================] - 1s 3ms/step - loss: 0.0185 - mean_absolute_error: 0.1016\n",
        "Cifar\n",
        "Loss :  [0.01851637475192547, 0.1015976071357727] Inference Loss :  [0.01851637475192547, 0.1015976071357727]\n",
        "```\n",
        "\n"
      ],
      "metadata": {
        "id": "MYNi15zxCKsz"
      }
    },
    {
      "cell_type": "code",
      "source": [
        "def predict(model, data, threshold):\n",
        "  reconstructions = model(data)\n",
        "#   loss = tf.keras.losses.mae(reconstructions, data)\n",
        "  return reconstructions # tf.math.less(loss, threshold)\n",
        "\n",
        "def print_stats(predictions, labels):\n",
        "  print(\"Accuracy = {}\".format(1 - np.average(labels-predictions.numpy().reshape(labels.shape))**2))\n",
        "  return 1 - np.average(labels-predictions.numpy().reshape(labels.shape))**2"
      ],
      "metadata": {
        "id": "obQdYD5XVqzp"
      },
      "execution_count": null,
      "outputs": []
    },
    {
      "cell_type": "code",
      "source": [
        "autoencoder.mycustom.training = False\n",
        "\n",
        "preds_n = predict(autoencoder, x_test_n, 0.3)\n",
        "acc_n = print_stats(preds_n, x_test_n)\n",
        "\n",
        "preds_f = predict(autoencoder, x_test_f, 0.3)\n",
        "acc_f = print_stats(preds_f, x_test_f)\n",
        "\n",
        "preds_c = predict(autoencoder, x_test_c, 0.3)\n",
        "acc_c = print_stats(preds_c, x_test_c)\n",
        "\n",
        "autoencoder.mycustom.training = True\n",
        "\n",
        "print()\n",
        "print(\"Total Average Accuracy : \", (acc_n + acc_f + acc_c) / 3)"
      ],
      "metadata": {
        "colab": {
          "base_uri": "https://localhost:8080/"
        },
        "id": "umD1VrboV77K",
        "outputId": "4d1ede21-32af-4e94-f3c3-91ac985593a9"
      },
      "execution_count": null,
      "outputs": [
        {
          "output_type": "stream",
          "name": "stdout",
          "text": [
            "Accuracy = 0.9965823747202831\n",
            "Accuracy = 0.9993158452064801\n",
            "Accuracy = 0.9999945787809688\n",
            "\n",
            "Total Average Accuracy :  0.9986309329025773\n"
          ]
        }
      ]
    },
    {
      "cell_type": "code",
      "source": [
        "plt.plot(history_c.history['val_mean_absolute_error'])\n",
        "plt.plot(history_n.history['val_mean_absolute_error'])\n",
        "plt.plot(history_f.history['val_mean_absolute_error'])\n",
        "\n",
        "plt.plot(history_c.history['val_loss'])\n",
        "plt.plot(history_f.history['val_loss'])\n",
        "plt.plot(history_f.history['val_loss'])\n",
        "# plt.plot(history.history['loss'])\n",
        "\n",
        "plt.title('model accuracy & loss')\n",
        "plt.xlabel('epoch')\n",
        "plt.legend(\n",
        "    [ \n",
        "     'cifar error', \n",
        "     'digits error', \n",
        "     'fashion error', \n",
        "     \n",
        "     'cifar loss', \n",
        "     'digits loss', \n",
        "     'fashion loss'\n",
        "    ], loc='upper left')\n",
        "plt.show()"
      ],
      "metadata": {
        "id": "e98lyasMWvX6",
        "colab": {
          "base_uri": "https://localhost:8080/",
          "height": 216
        },
        "outputId": "c2549dc0-ae95-4a27-cc56-9d588b733116"
      },
      "execution_count": null,
      "outputs": [
        {
          "output_type": "display_data",
          "data": {
            "text/plain": [
              "<Figure size 432x288 with 1 Axes>"
            ],
            "image/png": "[encoded data removed]"
          },
          "metadata": {
            "needs_background": "light"
          }
        }
      ]
    },
    {
      "cell_type": "code",
      "source": [
        ""
      ],
      "metadata": {
        "id": "OFTPss2mGXQM"
      },
      "execution_count": null,
      "outputs": []
    },
    {
      "cell_type": "code",
      "source": [
        ""
      ],
      "metadata": {
        "id": "Es6RgmQDD6T4"
      },
      "execution_count": null,
      "outputs": []
    },
    {
      "cell_type": "code",
      "source": [
        ""
      ],
      "metadata": {
        "id": "53643CnTDwPI"
      },
      "execution_count": null,
      "outputs": []
    },
    {
      "cell_type": "code",
      "source": [
        ""
      ],
      "metadata": {
        "id": "1niDn_RlDwL_"
      },
      "execution_count": null,
      "outputs": []
    },
    {
      "cell_type": "code",
      "source": [
        ""
      ],
      "metadata": {
        "id": "FRxRenWqDwIl"
      },
      "execution_count": null,
      "outputs": []
    },
    {
      "cell_type": "code",
      "source": [
        ""
      ],
      "metadata": {
        "id": "W_FCg-mNDbca"
      },
      "execution_count": null,
      "outputs": []
    }
  ]
}