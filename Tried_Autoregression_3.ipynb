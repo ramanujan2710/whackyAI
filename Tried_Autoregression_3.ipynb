{
  "nbformat": 4,
  "nbformat_minor": 0,
  "metadata": {
    "colab": {
      "name": "Tried Autoregression.ipynb",
      "provenance": [],
      "collapsed_sections": []
    },
    "kernelspec": {
      "name": "python3",
      "display_name": "Python 3"
    },
    "language_info": {
      "name": "python"
    }
  },
  "cells": [
    {
      "cell_type": "code",
      "source": [
        "import os\n",
        "import json\n",
        "import math\n",
        "import numpy as np\n",
        "\n",
        "## Imports for plotting\n",
        "import matplotlib.pyplot as plt\n",
        "%matplotlib inline\n",
        "from IPython.display import set_matplotlib_formats\n",
        "set_matplotlib_formats('svg', 'pdf') # For export\n",
        "from matplotlib.colors import to_rgb\n",
        "import matplotlib\n",
        "matplotlib.rcParams['lines.linewidth'] = 2.0\n",
        "import seaborn as sns\n",
        "sns.reset_orig()\n",
        "sns.set()\n",
        "\n",
        "## Progress bar\n",
        "from tqdm.notebook import tqdm\n",
        "\n",
        "## PyTorch\n",
        "import torch\n",
        "import torch.nn as nn\n",
        "import torch.nn.functional as F\n",
        "import torch.utils.data as data\n",
        "import torch.optim as optim\n",
        "# Torchvision\n",
        "import torchvision\n",
        "from torchvision.datasets import CIFAR10\n",
        "from torchvision import transforms"
      ],
      "metadata": {
        "id": "Mo9T2gscKab-"
      },
      "execution_count": null,
      "outputs": []
    },
    {
      "cell_type": "code",
      "execution_count": null,
      "metadata": {
        "id": "ikz54upcKKdW"
      },
      "outputs": [],
      "source": [
        "class Encoder(nn.Module):\n",
        "\n",
        "    def __init__(self,\n",
        "                 num_input_channels : int,\n",
        "                 base_channel_size : int,\n",
        "                 latent_dim : int,\n",
        "                 act_fn : object = nn.GELU):\n",
        "        \"\"\"\n",
        "        Inputs:\n",
        "            - num_input_channels : Number of input channels of the image. For CIFAR, this parameter is 3\n",
        "            - base_channel_size : Number of channels we use in the first convolutional layers. Deeper layers might use a duplicate of it.\n",
        "            - latent_dim : Dimensionality of latent representation z\n",
        "            - act_fn : Activation function used throughout the encoder network\n",
        "        \"\"\"\n",
        "        super().__init__()\n",
        "        c_hid = base_channel_size\n",
        "        self.net = nn.Sequential(\n",
        "            nn.Conv2d(num_input_channels, c_hid, kernel_size=3, padding=1, stride=2), # 32x32 => 16x16\n",
        "            act_fn(),\n",
        "            nn.Conv2d(c_hid, c_hid, kernel_size=3, padding=1),\n",
        "            act_fn(),\n",
        "            nn.Conv2d(c_hid, 2*c_hid, kernel_size=3, padding=1, stride=2), # 16x16 => 8x8\n",
        "            act_fn(),\n",
        "            nn.Conv2d(2*c_hid, 3, kernel_size=5, padding=1),\n",
        "            act_fn()\n",
        "            #nn.Conv2d(3, 3, kernel_size=5, padding=1), # 8x8 => 4x4\n",
        "            #act_fn(),\n",
        "        )\n",
        "\n",
        "    def forward(self, x):\n",
        "        return self.net(x)"
      ]
    },
    {
      "cell_type": "code",
      "source": [
        "encoder=Encoder(3,32,6)"
      ],
      "metadata": {
        "id": "ThJtkahbKLtZ"
      },
      "execution_count": null,
      "outputs": []
    },
    {
      "cell_type": "code",
      "source": [
        "video=torch.zeros((11,3,32,32))\n",
        "for k in range(11):\n",
        "  video[k,:,:,:]=torch.rand((3,32,32))"
      ],
      "metadata": {
        "id": "PkVRHGITKnyA"
      },
      "execution_count": null,
      "outputs": []
    },
    {
      "cell_type": "code",
      "source": [
        "video.shape"
      ],
      "metadata": {
        "colab": {
          "base_uri": "https://localhost:8080/"
        },
        "id": "dxVWrurZMFjU",
        "outputId": "bfadebde-f095-4808-88e6-3141f338dd1d"
      },
      "execution_count": null,
      "outputs": [
        {
          "output_type": "execute_result",
          "data": {
            "text/plain": [
              "torch.Size([11, 3, 32, 32])"
            ]
          },
          "metadata": {},
          "execution_count": 5
        }
      ]
    },
    {
      "cell_type": "code",
      "source": [
        "output_first=torch.zeros((11,3,6,6))\n",
        "for k in range(video.shape[0]):\n",
        "  output_first[k,:,:,:]=encoder(video[k,:,:,:].unsqueeze(0))"
      ],
      "metadata": {
        "id": "F-uYAe4gMl80"
      },
      "execution_count": null,
      "outputs": []
    },
    {
      "cell_type": "code",
      "source": [
        "class SelfConnection(nn.Module):\n",
        "  def __init__(self, units, get_w=True, **kwargs):\n",
        "        super().__init__(**kwargs)\n",
        "\n",
        "        # self_connections_metrics = (np.random.random( (units, units) ) > 0.5).astype(dtype=int).astype(dtype=tf.float32)\n",
        "        self.shift = np.random.randint(int(units*0.3), int(units*0.8))\n",
        "        self.s = torch.tensor(np.random.random((units)),dtype=torch.float32)\n",
        "\n",
        "        self.w = torch.tensor(np.random.random((units)),dtype=torch.float32)\n",
        "        self.b = torch.tensor(np.random.random((units)),dtype=torch.float32)\n",
        "\n",
        "        self.get_w = get_w\n",
        "  def forward(self, x, state = 1.0, get_weights = False):\n",
        "        # weights x some_amount_of (shifted weights)\n",
        "        print(x.shape)\n",
        "        w = self.w + ( self.s * torch.roll(self.w, shifts=self.shift) )\n",
        "        w = w * state\n",
        "        if self.get_w or get_weights:\n",
        "            out= (x * w) + self.b, self.w\n",
        "            print(\"out shape is \",out[1].shape)\n",
        "            print(type(out[0]))\n",
        "            return out[0]\n",
        "        else:\n",
        "            print(x.shape,w.shape)\n",
        "            return (x * w) + self.b"
      ],
      "metadata": {
        "id": "Od1-EcjAo8g8"
      },
      "execution_count": null,
      "outputs": []
    },
    {
      "cell_type": "code",
      "source": [
        "self_conn=SelfConnection(3)"
      ],
      "metadata": {
        "id": "_N41XBpNrIB0"
      },
      "execution_count": null,
      "outputs": []
    },
    {
      "cell_type": "code",
      "source": [
        "class Encoder_time(nn.Module):\n",
        "\n",
        "    def __init__(self,\n",
        "                 num_input_channels : int,\n",
        "                 base_channel_size : int,\n",
        "                 latent_dim : int,\n",
        "                 act_fn : object = nn.GELU):\n",
        "        \"\"\"\n",
        "        Inputs:\n",
        "            - num_input_channels : Number of input channels of the image. For CIFAR, this parameter is 3\n",
        "            - base_channel_size : Number of channels we use in the first convolutional layers. Deeper layers might use a duplicate of it.\n",
        "            - latent_dim : Dimensionality of latent representation z\n",
        "            - act_fn : Activation function used throughout the encoder network\n",
        "        \"\"\"\n",
        "        super().__init__()\n",
        "        c_hid = base_channel_size\n",
        "        self.net = nn.Sequential(\n",
        "            nn.Linear(36*11*3,36*11*3),\n",
        "            SelfConnection(36*11*3),\n",
        "            act_fn(),\n",
        "            nn.Linear(36*11*3,36*11*3),\n",
        "            SelfConnection(36*11*3),\n",
        "            act_fn(),\n",
        "            nn.Linear(36*11*3,36*10*3),\n",
        "            SelfConnection(36*10*3),\n",
        "            act_fn(),\n",
        "        )\n",
        "\n",
        "    def forward(self, x):\n",
        "        return self.net(x)"
      ],
      "metadata": {
        "id": "8RmkRt43NIIW"
      },
      "execution_count": 217,
      "outputs": []
    },
    {
      "cell_type": "code",
      "source": [
        "output_first=torch.tensor(output_first)"
      ],
      "metadata": {
        "colab": {
          "base_uri": "https://localhost:8080/"
        },
        "id": "VoNEpKYQg49D",
        "outputId": "4c852d7f-13a5-401a-b541-faeb9925298b"
      },
      "execution_count": 218,
      "outputs": [
        {
          "output_type": "stream",
          "name": "stderr",
          "text": [
            "/usr/local/lib/python3.7/dist-packages/ipykernel_launcher.py:1: UserWarning: To copy construct from a tensor, it is recommended to use sourceTensor.clone().detach() or sourceTensor.clone().detach().requires_grad_(True), rather than torch.tensor(sourceTensor).\n",
            "  \"\"\"Entry point for launching an IPython kernel.\n"
          ]
        }
      ]
    },
    {
      "cell_type": "code",
      "source": [
        "encoder_time=Encoder_time(3,6,6)"
      ],
      "metadata": {
        "id": "HBsiqiWnWUkq"
      },
      "execution_count": 219,
      "outputs": []
    },
    {
      "cell_type": "code",
      "source": [
        "encoded_video=encoder(video)"
      ],
      "metadata": {
        "id": "EA22KzUVWbo0"
      },
      "execution_count": 220,
      "outputs": []
    },
    {
      "cell_type": "code",
      "source": [
        "encoded_video.shape"
      ],
      "metadata": {
        "colab": {
          "base_uri": "https://localhost:8080/"
        },
        "id": "kQmuD7OvWlr8",
        "outputId": "fec2ed03-1d4c-415a-959a-b01906d0ac83"
      },
      "execution_count": 221,
      "outputs": [
        {
          "output_type": "execute_result",
          "data": {
            "text/plain": [
              "torch.Size([11, 3, 6, 6])"
            ]
          },
          "metadata": {},
          "execution_count": 221
        }
      ]
    },
    {
      "cell_type": "code",
      "source": [
        "encoded_video=encoded_video.flatten()"
      ],
      "metadata": {
        "id": "Q0rgNoukWn-v"
      },
      "execution_count": 222,
      "outputs": []
    },
    {
      "cell_type": "code",
      "source": [
        "encoded_video.shape"
      ],
      "metadata": {
        "colab": {
          "base_uri": "https://localhost:8080/"
        },
        "id": "bFj5GToHXMYF",
        "outputId": "c51daee2-773e-43e7-def9-d35770d7124c"
      },
      "execution_count": 223,
      "outputs": [
        {
          "output_type": "execute_result",
          "data": {
            "text/plain": [
              "torch.Size([1188])"
            ]
          },
          "metadata": {},
          "execution_count": 223
        }
      ]
    },
    {
      "cell_type": "code",
      "source": [
        "output=encoder_time(encoded_video)"
      ],
      "metadata": {
        "id": "4LJM-vjRXOMg",
        "colab": {
          "base_uri": "https://localhost:8080/"
        },
        "outputId": "03de73aa-831e-4747-9ca9-fd2e617e8842"
      },
      "execution_count": 224,
      "outputs": [
        {
          "output_type": "stream",
          "name": "stdout",
          "text": [
            "torch.Size([1188])\n",
            "out shape is  torch.Size([1188])\n",
            "<class 'torch.Tensor'>\n",
            "torch.Size([1188])\n",
            "out shape is  torch.Size([1188])\n",
            "<class 'torch.Tensor'>\n",
            "torch.Size([1080])\n",
            "out shape is  torch.Size([1080])\n",
            "<class 'torch.Tensor'>\n"
          ]
        }
      ]
    },
    {
      "cell_type": "code",
      "source": [
        "output=output.reshape(10,3,6,6)"
      ],
      "metadata": {
        "id": "c8Gacoe9wfjg"
      },
      "execution_count": 225,
      "outputs": []
    },
    {
      "cell_type": "markdown",
      "source": [
        "#second encoder output"
      ],
      "metadata": {
        "id": "Xnw9DLNlE_es"
      }
    },
    {
      "cell_type": "code",
      "source": [
        "output.shape"
      ],
      "metadata": {
        "colab": {
          "base_uri": "https://localhost:8080/"
        },
        "id": "NBKa3nvwXVXO",
        "outputId": "80023c6c-9592-42a3-9496-573ee006170d"
      },
      "execution_count": 226,
      "outputs": [
        {
          "output_type": "execute_result",
          "data": {
            "text/plain": [
              "torch.Size([10, 3, 6, 6])"
            ]
          },
          "metadata": {},
          "execution_count": 226
        }
      ]
    },
    {
      "cell_type": "markdown",
      "source": [
        "# Final output"
      ],
      "metadata": {
        "id": "OPfuIINaY5ZY"
      }
    },
    {
      "cell_type": "code",
      "source": [
        "encoded_video=encoded_video.reshape(11,3,6,6)"
      ],
      "metadata": {
        "id": "bEytGE1T39Sy"
      },
      "execution_count": 230,
      "outputs": []
    },
    {
      "cell_type": "code",
      "source": [
        "torch.cat((output,encoded_video[0].unsqueeze(0))).shape"
      ],
      "metadata": {
        "colab": {
          "base_uri": "https://localhost:8080/"
        },
        "id": "k6Lkp9QtYMw5",
        "outputId": "919c8226-3bf6-4131-cf9a-846478967802"
      },
      "execution_count": 231,
      "outputs": [
        {
          "output_type": "execute_result",
          "data": {
            "text/plain": [
              "torch.Size([11, 3, 6, 6])"
            ]
          },
          "metadata": {},
          "execution_count": 231
        }
      ]
    },
    {
      "cell_type": "code",
      "source": [
        ""
      ],
      "metadata": {
        "id": "9fKs-S3XYeZS"
      },
      "execution_count": null,
      "outputs": []
    }
  ]
}